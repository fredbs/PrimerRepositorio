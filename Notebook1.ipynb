{
 "cells": [
  {
   "cell_type": "markdown",
   "id": "0f03897e",
   "metadata": {},
   "source": [
    "Notebook en mi primer Repositorio **PrimerRepositorio**"
   ]
  },
  {
   "cell_type": "code",
   "execution_count": 2,
   "id": "3fa0a0e2",
   "metadata": {},
   "outputs": [
    {
     "name": "stdout",
     "output_type": "stream",
     "text": [
      "Hola Mundo\n"
     ]
    }
   ],
   "source": [
    "print(\"Hola Mundo\")"
   ]
  }
 ],
 "metadata": {
  "kernelspec": {
   "display_name": "Python 3",
   "language": "python",
   "name": "python3"
  },
  "language_info": {
   "codemirror_mode": {
    "name": "ipython",
    "version": 3
   },
   "file_extension": ".py",
   "mimetype": "text/x-python",
   "name": "python",
   "nbconvert_exporter": "python",
   "pygments_lexer": "ipython3",
   "version": "3.8.8"
  }
 },
 "nbformat": 4,
 "nbformat_minor": 5
}
